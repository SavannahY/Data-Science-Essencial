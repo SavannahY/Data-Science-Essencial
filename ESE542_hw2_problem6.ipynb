{
  "nbformat": 4,
  "nbformat_minor": 0,
  "metadata": {
    "colab": {
      "name": "ESE542_hw2_problem6.ipynb",
      "provenance": [],
      "authorship_tag": "ABX9TyM3iLgflaWFi1QkqC2KrpnT",
      "include_colab_link": true
    },
    "kernelspec": {
      "name": "python3",
      "display_name": "Python 3"
    }
  },
  "cells": [
    {
      "cell_type": "markdown",
      "metadata": {
        "id": "view-in-github",
        "colab_type": "text"
      },
      "source": [
        "<a href=\"https://colab.research.google.com/github/SavannahY/Data-Science-Essencial/blob/master/ESE542_hw2_problem6.ipynb\" target=\"_parent\"><img src=\"https://colab.research.google.com/assets/colab-badge.svg\" alt=\"Open In Colab\"/></a>"
      ]
    },
    {
      "cell_type": "code",
      "metadata": {
        "id": "H-n85w_PqwSO",
        "outputId": "bd85dddd-1d01-408e-eae3-cb8537607f41",
        "colab": {
          "base_uri": "https://localhost:8080/",
          "height": 34
        }
      },
      "source": [
        "from google.colab import drive\n",
        "drive.mount('/content/gdrive')"
      ],
      "execution_count": 1,
      "outputs": [
        {
          "output_type": "stream",
          "text": [
            "Mounted at /content/gdrive\n"
          ],
          "name": "stdout"
        }
      ]
    },
    {
      "cell_type": "markdown",
      "metadata": {
        "id": "CbZCcYGGtePD"
      },
      "source": [
        "## (a) estimates of sample mean and sample variance"
      ]
    },
    {
      "cell_type": "code",
      "metadata": {
        "id": "HP7B_tfgrJ7c"
      },
      "source": [
        "import numpy as np\n",
        "import pandas as pd"
      ],
      "execution_count": 16,
      "outputs": []
    },
    {
      "cell_type": "code",
      "metadata": {
        "id": "Rw2_qXR5q3cG"
      },
      "source": [
        "path = 'gdrive/My Drive/ESE542/data_HW2.csv'\n",
        "df = pd.read_csv(path, names = ['value'])"
      ],
      "execution_count": 8,
      "outputs": []
    },
    {
      "cell_type": "code",
      "metadata": {
        "id": "6MV7f-Oer9hg",
        "outputId": "e916a3ac-a674-4f55-83d9-3b170826c5e4",
        "colab": {
          "base_uri": "https://localhost:8080/",
          "height": 204
        }
      },
      "source": [
        "df.head()"
      ],
      "execution_count": 9,
      "outputs": [
        {
          "output_type": "execute_result",
          "data": {
            "text/html": [
              "<div>\n",
              "<style scoped>\n",
              "    .dataframe tbody tr th:only-of-type {\n",
              "        vertical-align: middle;\n",
              "    }\n",
              "\n",
              "    .dataframe tbody tr th {\n",
              "        vertical-align: top;\n",
              "    }\n",
              "\n",
              "    .dataframe thead th {\n",
              "        text-align: right;\n",
              "    }\n",
              "</style>\n",
              "<table border=\"1\" class=\"dataframe\">\n",
              "  <thead>\n",
              "    <tr style=\"text-align: right;\">\n",
              "      <th></th>\n",
              "      <th>value</th>\n",
              "    </tr>\n",
              "  </thead>\n",
              "  <tbody>\n",
              "    <tr>\n",
              "      <th>0</th>\n",
              "      <td>1.318862</td>\n",
              "    </tr>\n",
              "    <tr>\n",
              "      <th>1</th>\n",
              "      <td>8.910563</td>\n",
              "    </tr>\n",
              "    <tr>\n",
              "      <th>2</th>\n",
              "      <td>15.255239</td>\n",
              "    </tr>\n",
              "    <tr>\n",
              "      <th>3</th>\n",
              "      <td>5.982215</td>\n",
              "    </tr>\n",
              "    <tr>\n",
              "      <th>4</th>\n",
              "      <td>6.385356</td>\n",
              "    </tr>\n",
              "  </tbody>\n",
              "</table>\n",
              "</div>"
            ],
            "text/plain": [
              "       value\n",
              "0   1.318862\n",
              "1   8.910563\n",
              "2  15.255239\n",
              "3   5.982215\n",
              "4   6.385356"
            ]
          },
          "metadata": {
            "tags": []
          },
          "execution_count": 9
        }
      ]
    },
    {
      "cell_type": "code",
      "metadata": {
        "id": "qQJYa1XerI0Z",
        "outputId": "dc29a466-8301-4520-da8c-928e8587e892",
        "colab": {
          "base_uri": "https://localhost:8080/",
          "height": 85
        }
      },
      "source": [
        "mean = df.sum()/len(df)\n",
        "print('mean = ', mean)\n",
        "variance = np.sum(np.square(df-mean))/len(df)\n",
        "print('variance = ', variance)"
      ],
      "execution_count": 12,
      "outputs": [
        {
          "output_type": "stream",
          "text": [
            "mean =  value    4.234069\n",
            "dtype: float64\n",
            "variance =  value    18.185304\n",
            "dtype: float64\n"
          ],
          "name": "stdout"
        }
      ]
    },
    {
      "cell_type": "code",
      "metadata": {
        "id": "MizKnUaorv-z",
        "outputId": "debd712a-ec49-4a53-c265-d07bc4db856e",
        "colab": {
          "base_uri": "https://localhost:8080/",
          "height": 85
        }
      },
      "source": [
        "numpy_mean = np.mean(df)\n",
        "print('numpy_mean = ', numpy_mean)\n",
        "numpy_variance = np.var(df)\n",
        "print('numpy_variance = ',numpy_variance)"
      ],
      "execution_count": 15,
      "outputs": [
        {
          "output_type": "stream",
          "text": [
            "numpy_mean =  value    4.234069\n",
            "dtype: float64\n",
            "numpy_variance =  value    18.185304\n",
            "dtype: float64\n"
          ],
          "name": "stdout"
        }
      ]
    },
    {
      "cell_type": "markdown",
      "metadata": {
        "id": "SIGyKxJluaHS"
      },
      "source": [
        "## (b) standard deviation 0.25, compute 90% interval for the population mean"
      ]
    },
    {
      "cell_type": "code",
      "metadata": {
        "id": "WOnAYfKxtG9U"
      },
      "source": [
        "import scipy.stats as st"
      ],
      "execution_count": 17,
      "outputs": []
    },
    {
      "cell_type": "code",
      "metadata": {
        "id": "pUoJyGSuvTJ4",
        "outputId": "a4db3308-8923-4369-aea3-0b70cb54df43",
        "colab": {
          "base_uri": "https://localhost:8080/",
          "height": 34
        }
      },
      "source": [
        "a,b =st.t.interval(0.9, len(df)-1, loc= mean, scale = 0.25)\n",
        "print('a = ',a,'b = ',b)"
      ],
      "execution_count": 23,
      "outputs": [
        {
          "output_type": "stream",
          "text": [
            "a =  [3.82132021] b =  [4.64681829]\n"
          ],
          "name": "stdout"
        }
      ]
    },
    {
      "cell_type": "markdown",
      "metadata": {
        "id": "Kg59rjtWvYHI"
      },
      "source": [
        "Confidence interval with equal areas around the median.\n",
        "\n",
        "Parameters\n",
        "\n",
        "alpha : array_like of float\n",
        "    Probability that an rv will be drawn from the returned range.\n",
        "    Each value should be in the range [0, 1].\n",
        "arg1, arg2, ... : array_like\n",
        "    The shape parameter(s) for the distribution (see docstring of the\n",
        "    instance object for more information).\n",
        "loc : array_like, optional\n",
        "    location parameter, Default is 0.\n",
        "scale : array_like, optional\n",
        "    scale parameter, Default is 1.\n",
        "\n",
        "Returns\n",
        "\n",
        "a, b : ndarray of float\n",
        "    end-points of range that contain 100 * alpha % of the rv's\n",
        "    possible values."
      ]
    },
    {
      "cell_type": "code",
      "metadata": {
        "id": "YAWtcIiivkCe"
      },
      "source": [
        ""
      ],
      "execution_count": null,
      "outputs": []
    }
  ]
}